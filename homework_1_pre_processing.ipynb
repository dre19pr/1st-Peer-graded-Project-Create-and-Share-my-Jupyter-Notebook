{
  "cells": [
    {
      "cell_type": "markdown",
      "metadata": {
        "id": "view-in-github",
        "colab_type": "text"
      },
      "source": [
        "<a href=\"https://colab.research.google.com/github/dre19pr/1st-Peer-graded-Project-Create-and-Share-my-Jupyter-Notebook/blob/main/homework_1_pre_processing.ipynb\" target=\"_parent\"><img src=\"https://colab.research.google.com/assets/colab-badge.svg\" alt=\"Open In Colab\"/></a>"
      ]
    },
    {
      "cell_type": "markdown",
      "metadata": {
        "id": "2c5QN6JweUFz"
      },
      "source": [
        "<div\n",
        "     style=\"padding: 20px;\n",
        "            color: white;\n",
        "            font-size: 250%;\n",
        "            text-align: center;\n",
        "            display: fill;\n",
        "            border-radius: 5px;\n",
        "            background-color: #023c66;\n",
        "            overflow: hidden;\n",
        "            font-weight: 700;\n",
        "            border: 5px solid #F28C28;\"\n",
        "     >\n",
        "    Homework 1 - Data Pre-Processing\n",
        "</div>\n",
        "\n",
        "This data set was obtained from the article \"*Projecting The Top 50 Players In The 2015 NBA Draft Class*\" published by FiveThirtyEight. The data set contains information about college players including the player's name, position, as well as 4 probabilities obtained by model building.\n"
      ]
    },
    {
      "cell_type": "markdown",
      "metadata": {
        "id": "-vaELTD1e5BY"
      },
      "source": [
        "### **Data set**\n",
        "\n",
        "Read the data from https://raw.githubusercontent.com/fivethirtyeight/data/master/nba-draft-2015/historical_projections.csv"
      ]
    },
    {
      "cell_type": "markdown",
      "metadata": {
        "id": "Bo8e2zdKzWJp"
      },
      "source": [
        "\n",
        "### **Variable Description**\n",
        "\n",
        "* `Player`\tPlayer name\n",
        "* `Position`\tThe player's position going into the draft\n",
        "* `ID`\tThe player's identification code\n",
        "* `Draft Year`\tThe year the player was eligible for the NBA draft\n",
        "* `Projected SPM`\tThe model's projected statistical plus/minus over years 2-5 of the player's NBA career\n",
        "* `Superstar`\tProbability of becoming a superstar player (1 per draft, SPM >= +3.3)\n",
        "* `Starter`\tProbability of becoming a starting-caliber player (10 per draft, SPM >= +0.5)\n",
        "* `Role Player`\tProbability of becoming a role player (25 per draft, SPM >= -1.4)\n",
        "* `Bust`\tProbability of becoming a bust (everyone else, SPM < -1.4)"
      ]
    },
    {
      "cell_type": "markdown",
      "metadata": {
        "id": "e-td0XrAfNy5"
      },
      "source": [
        "#### **1) Read the data and print 10 observations (2 pts)**\n",
        "\n",
        "* Read the data `historical_projections.csv`\n",
        "* Save the data to `df`\n",
        "* print the first 10 observations."
      ]
    },
    {
      "cell_type": "code",
      "source": [
        "import pandas as pd\n",
        "df=pd.read_csv('http://raw.githubusercontent.com/fivethirtyeight/data/master/nba-draft-2015/historical_projections.csv')\n",
        "df.head(10)"
      ],
      "metadata": {
        "id": "MM2AwEM6DP86",
        "colab": {
          "base_uri": "https://localhost:8080/",
          "height": 363
        },
        "outputId": "7f701027-c5b8-4949-891e-2fb9dc5b7157"
      },
      "execution_count": 25,
      "outputs": [
        {
          "output_type": "execute_result",
          "data": {
            "text/plain": [
              "                    Player Position                       ID  Draft Year  \\\n",
              "0       Karl-Anthony Towns        C       karl-anthony-towns        2015   \n",
              "1          Justise Winslow       SF          justise-winslow        2015   \n",
              "2          Stanley Johnson       SF          stanley-johnson        2015   \n",
              "3            Jahlil Okafor        C            jahlil-okafor        2015   \n",
              "4         D`Angelo Russell       PG         d-angelo-russell        2015   \n",
              "5           Dakari Johnson        C           dakari-johnson        2015   \n",
              "6             Devin Booker       SG           3-devin-booker        2015   \n",
              "7      Willie Cauley-Stein        C      willie-cauley-stein        2015   \n",
              "8  Rondae Hollis-Jefferson       SF  rondae-hollis-jefferson        2015   \n",
              "9               Trey Lyles       PF               trey-lyles        2015   \n",
              "\n",
              "   Projected SPM  Superstar   Starter  Role Player      Bust  \n",
              "0       1.030606   0.134767  0.427183     0.163083  0.274967  \n",
              "1       0.875329   0.083529  0.510905     0.176767  0.228800  \n",
              "2       0.679493   0.067800  0.423733     0.278500  0.229967  \n",
              "3       0.521661   0.058717  0.409900     0.235533  0.295850  \n",
              "4       0.511967   0.152033  0.342283     0.096583  0.409100  \n",
              "5       0.491787   0.021341  0.367544     0.417572  0.193544  \n",
              "6       0.472577   0.073367  0.324467     0.390167  0.212000  \n",
              "7       0.351171   0.047114  0.405990     0.243186  0.303710  \n",
              "8       0.311909   0.014590  0.368533     0.392481  0.224396  \n",
              "9       0.267509   0.022386  0.351329     0.403052  0.223233  "
            ],
            "text/html": [
              "\n",
              "  <div id=\"df-3120425c-fc23-4d90-bbf8-c252c383e86e\" class=\"colab-df-container\">\n",
              "    <div>\n",
              "<style scoped>\n",
              "    .dataframe tbody tr th:only-of-type {\n",
              "        vertical-align: middle;\n",
              "    }\n",
              "\n",
              "    .dataframe tbody tr th {\n",
              "        vertical-align: top;\n",
              "    }\n",
              "\n",
              "    .dataframe thead th {\n",
              "        text-align: right;\n",
              "    }\n",
              "</style>\n",
              "<table border=\"1\" class=\"dataframe\">\n",
              "  <thead>\n",
              "    <tr style=\"text-align: right;\">\n",
              "      <th></th>\n",
              "      <th>Player</th>\n",
              "      <th>Position</th>\n",
              "      <th>ID</th>\n",
              "      <th>Draft Year</th>\n",
              "      <th>Projected SPM</th>\n",
              "      <th>Superstar</th>\n",
              "      <th>Starter</th>\n",
              "      <th>Role Player</th>\n",
              "      <th>Bust</th>\n",
              "    </tr>\n",
              "  </thead>\n",
              "  <tbody>\n",
              "    <tr>\n",
              "      <th>0</th>\n",
              "      <td>Karl-Anthony Towns</td>\n",
              "      <td>C</td>\n",
              "      <td>karl-anthony-towns</td>\n",
              "      <td>2015</td>\n",
              "      <td>1.030606</td>\n",
              "      <td>0.134767</td>\n",
              "      <td>0.427183</td>\n",
              "      <td>0.163083</td>\n",
              "      <td>0.274967</td>\n",
              "    </tr>\n",
              "    <tr>\n",
              "      <th>1</th>\n",
              "      <td>Justise Winslow</td>\n",
              "      <td>SF</td>\n",
              "      <td>justise-winslow</td>\n",
              "      <td>2015</td>\n",
              "      <td>0.875329</td>\n",
              "      <td>0.083529</td>\n",
              "      <td>0.510905</td>\n",
              "      <td>0.176767</td>\n",
              "      <td>0.228800</td>\n",
              "    </tr>\n",
              "    <tr>\n",
              "      <th>2</th>\n",
              "      <td>Stanley Johnson</td>\n",
              "      <td>SF</td>\n",
              "      <td>stanley-johnson</td>\n",
              "      <td>2015</td>\n",
              "      <td>0.679493</td>\n",
              "      <td>0.067800</td>\n",
              "      <td>0.423733</td>\n",
              "      <td>0.278500</td>\n",
              "      <td>0.229967</td>\n",
              "    </tr>\n",
              "    <tr>\n",
              "      <th>3</th>\n",
              "      <td>Jahlil Okafor</td>\n",
              "      <td>C</td>\n",
              "      <td>jahlil-okafor</td>\n",
              "      <td>2015</td>\n",
              "      <td>0.521661</td>\n",
              "      <td>0.058717</td>\n",
              "      <td>0.409900</td>\n",
              "      <td>0.235533</td>\n",
              "      <td>0.295850</td>\n",
              "    </tr>\n",
              "    <tr>\n",
              "      <th>4</th>\n",
              "      <td>D`Angelo Russell</td>\n",
              "      <td>PG</td>\n",
              "      <td>d-angelo-russell</td>\n",
              "      <td>2015</td>\n",
              "      <td>0.511967</td>\n",
              "      <td>0.152033</td>\n",
              "      <td>0.342283</td>\n",
              "      <td>0.096583</td>\n",
              "      <td>0.409100</td>\n",
              "    </tr>\n",
              "    <tr>\n",
              "      <th>5</th>\n",
              "      <td>Dakari Johnson</td>\n",
              "      <td>C</td>\n",
              "      <td>dakari-johnson</td>\n",
              "      <td>2015</td>\n",
              "      <td>0.491787</td>\n",
              "      <td>0.021341</td>\n",
              "      <td>0.367544</td>\n",
              "      <td>0.417572</td>\n",
              "      <td>0.193544</td>\n",
              "    </tr>\n",
              "    <tr>\n",
              "      <th>6</th>\n",
              "      <td>Devin Booker</td>\n",
              "      <td>SG</td>\n",
              "      <td>3-devin-booker</td>\n",
              "      <td>2015</td>\n",
              "      <td>0.472577</td>\n",
              "      <td>0.073367</td>\n",
              "      <td>0.324467</td>\n",
              "      <td>0.390167</td>\n",
              "      <td>0.212000</td>\n",
              "    </tr>\n",
              "    <tr>\n",
              "      <th>7</th>\n",
              "      <td>Willie Cauley-Stein</td>\n",
              "      <td>C</td>\n",
              "      <td>willie-cauley-stein</td>\n",
              "      <td>2015</td>\n",
              "      <td>0.351171</td>\n",
              "      <td>0.047114</td>\n",
              "      <td>0.405990</td>\n",
              "      <td>0.243186</td>\n",
              "      <td>0.303710</td>\n",
              "    </tr>\n",
              "    <tr>\n",
              "      <th>8</th>\n",
              "      <td>Rondae Hollis-Jefferson</td>\n",
              "      <td>SF</td>\n",
              "      <td>rondae-hollis-jefferson</td>\n",
              "      <td>2015</td>\n",
              "      <td>0.311909</td>\n",
              "      <td>0.014590</td>\n",
              "      <td>0.368533</td>\n",
              "      <td>0.392481</td>\n",
              "      <td>0.224396</td>\n",
              "    </tr>\n",
              "    <tr>\n",
              "      <th>9</th>\n",
              "      <td>Trey Lyles</td>\n",
              "      <td>PF</td>\n",
              "      <td>trey-lyles</td>\n",
              "      <td>2015</td>\n",
              "      <td>0.267509</td>\n",
              "      <td>0.022386</td>\n",
              "      <td>0.351329</td>\n",
              "      <td>0.403052</td>\n",
              "      <td>0.223233</td>\n",
              "    </tr>\n",
              "  </tbody>\n",
              "</table>\n",
              "</div>\n",
              "    <div class=\"colab-df-buttons\">\n",
              "\n",
              "  <div class=\"colab-df-container\">\n",
              "    <button class=\"colab-df-convert\" onclick=\"convertToInteractive('df-3120425c-fc23-4d90-bbf8-c252c383e86e')\"\n",
              "            title=\"Convert this dataframe to an interactive table.\"\n",
              "            style=\"display:none;\">\n",
              "\n",
              "  <svg xmlns=\"http://www.w3.org/2000/svg\" height=\"24px\" viewBox=\"0 -960 960 960\">\n",
              "    <path d=\"M120-120v-720h720v720H120Zm60-500h600v-160H180v160Zm220 220h160v-160H400v160Zm0 220h160v-160H400v160ZM180-400h160v-160H180v160Zm440 0h160v-160H620v160ZM180-180h160v-160H180v160Zm440 0h160v-160H620v160Z\"/>\n",
              "  </svg>\n",
              "    </button>\n",
              "\n",
              "  <style>\n",
              "    .colab-df-container {\n",
              "      display:flex;\n",
              "      gap: 12px;\n",
              "    }\n",
              "\n",
              "    .colab-df-convert {\n",
              "      background-color: #E8F0FE;\n",
              "      border: none;\n",
              "      border-radius: 50%;\n",
              "      cursor: pointer;\n",
              "      display: none;\n",
              "      fill: #1967D2;\n",
              "      height: 32px;\n",
              "      padding: 0 0 0 0;\n",
              "      width: 32px;\n",
              "    }\n",
              "\n",
              "    .colab-df-convert:hover {\n",
              "      background-color: #E2EBFA;\n",
              "      box-shadow: 0px 1px 2px rgba(60, 64, 67, 0.3), 0px 1px 3px 1px rgba(60, 64, 67, 0.15);\n",
              "      fill: #174EA6;\n",
              "    }\n",
              "\n",
              "    .colab-df-buttons div {\n",
              "      margin-bottom: 4px;\n",
              "    }\n",
              "\n",
              "    [theme=dark] .colab-df-convert {\n",
              "      background-color: #3B4455;\n",
              "      fill: #D2E3FC;\n",
              "    }\n",
              "\n",
              "    [theme=dark] .colab-df-convert:hover {\n",
              "      background-color: #434B5C;\n",
              "      box-shadow: 0px 1px 3px 1px rgba(0, 0, 0, 0.15);\n",
              "      filter: drop-shadow(0px 1px 2px rgba(0, 0, 0, 0.3));\n",
              "      fill: #FFFFFF;\n",
              "    }\n",
              "  </style>\n",
              "\n",
              "    <script>\n",
              "      const buttonEl =\n",
              "        document.querySelector('#df-3120425c-fc23-4d90-bbf8-c252c383e86e button.colab-df-convert');\n",
              "      buttonEl.style.display =\n",
              "        google.colab.kernel.accessAllowed ? 'block' : 'none';\n",
              "\n",
              "      async function convertToInteractive(key) {\n",
              "        const element = document.querySelector('#df-3120425c-fc23-4d90-bbf8-c252c383e86e');\n",
              "        const dataTable =\n",
              "          await google.colab.kernel.invokeFunction('convertToInteractive',\n",
              "                                                    [key], {});\n",
              "        if (!dataTable) return;\n",
              "\n",
              "        const docLinkHtml = 'Like what you see? Visit the ' +\n",
              "          '<a target=\"_blank\" href=https://colab.research.google.com/notebooks/data_table.ipynb>data table notebook</a>'\n",
              "          + ' to learn more about interactive tables.';\n",
              "        element.innerHTML = '';\n",
              "        dataTable['output_type'] = 'display_data';\n",
              "        await google.colab.output.renderOutput(dataTable, element);\n",
              "        const docLink = document.createElement('div');\n",
              "        docLink.innerHTML = docLinkHtml;\n",
              "        element.appendChild(docLink);\n",
              "      }\n",
              "    </script>\n",
              "  </div>\n",
              "\n",
              "\n",
              "<div id=\"df-d7dbd6a1-523c-4a96-937e-34437028ada5\">\n",
              "  <button class=\"colab-df-quickchart\" onclick=\"quickchart('df-d7dbd6a1-523c-4a96-937e-34437028ada5')\"\n",
              "            title=\"Suggest charts.\"\n",
              "            style=\"display:none;\">\n",
              "\n",
              "<svg xmlns=\"http://www.w3.org/2000/svg\" height=\"24px\"viewBox=\"0 0 24 24\"\n",
              "     width=\"24px\">\n",
              "    <g>\n",
              "        <path d=\"M19 3H5c-1.1 0-2 .9-2 2v14c0 1.1.9 2 2 2h14c1.1 0 2-.9 2-2V5c0-1.1-.9-2-2-2zM9 17H7v-7h2v7zm4 0h-2V7h2v10zm4 0h-2v-4h2v4z\"/>\n",
              "    </g>\n",
              "</svg>\n",
              "  </button>\n",
              "\n",
              "<style>\n",
              "  .colab-df-quickchart {\n",
              "      --bg-color: #E8F0FE;\n",
              "      --fill-color: #1967D2;\n",
              "      --hover-bg-color: #E2EBFA;\n",
              "      --hover-fill-color: #174EA6;\n",
              "      --disabled-fill-color: #AAA;\n",
              "      --disabled-bg-color: #DDD;\n",
              "  }\n",
              "\n",
              "  [theme=dark] .colab-df-quickchart {\n",
              "      --bg-color: #3B4455;\n",
              "      --fill-color: #D2E3FC;\n",
              "      --hover-bg-color: #434B5C;\n",
              "      --hover-fill-color: #FFFFFF;\n",
              "      --disabled-bg-color: #3B4455;\n",
              "      --disabled-fill-color: #666;\n",
              "  }\n",
              "\n",
              "  .colab-df-quickchart {\n",
              "    background-color: var(--bg-color);\n",
              "    border: none;\n",
              "    border-radius: 50%;\n",
              "    cursor: pointer;\n",
              "    display: none;\n",
              "    fill: var(--fill-color);\n",
              "    height: 32px;\n",
              "    padding: 0;\n",
              "    width: 32px;\n",
              "  }\n",
              "\n",
              "  .colab-df-quickchart:hover {\n",
              "    background-color: var(--hover-bg-color);\n",
              "    box-shadow: 0 1px 2px rgba(60, 64, 67, 0.3), 0 1px 3px 1px rgba(60, 64, 67, 0.15);\n",
              "    fill: var(--button-hover-fill-color);\n",
              "  }\n",
              "\n",
              "  .colab-df-quickchart-complete:disabled,\n",
              "  .colab-df-quickchart-complete:disabled:hover {\n",
              "    background-color: var(--disabled-bg-color);\n",
              "    fill: var(--disabled-fill-color);\n",
              "    box-shadow: none;\n",
              "  }\n",
              "\n",
              "  .colab-df-spinner {\n",
              "    border: 2px solid var(--fill-color);\n",
              "    border-color: transparent;\n",
              "    border-bottom-color: var(--fill-color);\n",
              "    animation:\n",
              "      spin 1s steps(1) infinite;\n",
              "  }\n",
              "\n",
              "  @keyframes spin {\n",
              "    0% {\n",
              "      border-color: transparent;\n",
              "      border-bottom-color: var(--fill-color);\n",
              "      border-left-color: var(--fill-color);\n",
              "    }\n",
              "    20% {\n",
              "      border-color: transparent;\n",
              "      border-left-color: var(--fill-color);\n",
              "      border-top-color: var(--fill-color);\n",
              "    }\n",
              "    30% {\n",
              "      border-color: transparent;\n",
              "      border-left-color: var(--fill-color);\n",
              "      border-top-color: var(--fill-color);\n",
              "      border-right-color: var(--fill-color);\n",
              "    }\n",
              "    40% {\n",
              "      border-color: transparent;\n",
              "      border-right-color: var(--fill-color);\n",
              "      border-top-color: var(--fill-color);\n",
              "    }\n",
              "    60% {\n",
              "      border-color: transparent;\n",
              "      border-right-color: var(--fill-color);\n",
              "    }\n",
              "    80% {\n",
              "      border-color: transparent;\n",
              "      border-right-color: var(--fill-color);\n",
              "      border-bottom-color: var(--fill-color);\n",
              "    }\n",
              "    90% {\n",
              "      border-color: transparent;\n",
              "      border-bottom-color: var(--fill-color);\n",
              "    }\n",
              "  }\n",
              "</style>\n",
              "\n",
              "  <script>\n",
              "    async function quickchart(key) {\n",
              "      const quickchartButtonEl =\n",
              "        document.querySelector('#' + key + ' button');\n",
              "      quickchartButtonEl.disabled = true;  // To prevent multiple clicks.\n",
              "      quickchartButtonEl.classList.add('colab-df-spinner');\n",
              "      try {\n",
              "        const charts = await google.colab.kernel.invokeFunction(\n",
              "            'suggestCharts', [key], {});\n",
              "      } catch (error) {\n",
              "        console.error('Error during call to suggestCharts:', error);\n",
              "      }\n",
              "      quickchartButtonEl.classList.remove('colab-df-spinner');\n",
              "      quickchartButtonEl.classList.add('colab-df-quickchart-complete');\n",
              "    }\n",
              "    (() => {\n",
              "      let quickchartButtonEl =\n",
              "        document.querySelector('#df-d7dbd6a1-523c-4a96-937e-34437028ada5 button');\n",
              "      quickchartButtonEl.style.display =\n",
              "        google.colab.kernel.accessAllowed ? 'block' : 'none';\n",
              "    })();\n",
              "  </script>\n",
              "</div>\n",
              "    </div>\n",
              "  </div>\n"
            ]
          },
          "metadata": {},
          "execution_count": 25
        }
      ]
    },
    {
      "cell_type": "markdown",
      "metadata": {
        "id": "eyY8uJ8BLaNC"
      },
      "source": [
        "#### **2) Print the`.info()` method bound to the dataframe to check variable types (2 pts)**"
      ]
    },
    {
      "cell_type": "code",
      "source": [
        "df.info()"
      ],
      "metadata": {
        "id": "ms6qxXJyDRQz",
        "colab": {
          "base_uri": "https://localhost:8080/"
        },
        "outputId": "6261cdca-0254-4b10-e326-aabdbc1f9fb0"
      },
      "execution_count": 26,
      "outputs": [
        {
          "output_type": "stream",
          "name": "stdout",
          "text": [
            "<class 'pandas.core.frame.DataFrame'>\n",
            "RangeIndex: 1090 entries, 0 to 1089\n",
            "Data columns (total 9 columns):\n",
            " #   Column         Non-Null Count  Dtype  \n",
            "---  ------         --------------  -----  \n",
            " 0   Player         1090 non-null   object \n",
            " 1   Position       1090 non-null   object \n",
            " 2   ID             1090 non-null   object \n",
            " 3   Draft Year     1090 non-null   int64  \n",
            " 4   Projected SPM  1090 non-null   float64\n",
            " 5   Superstar      1090 non-null   float64\n",
            " 6   Starter        1090 non-null   float64\n",
            " 7   Role Player    1090 non-null   float64\n",
            " 8   Bust           1090 non-null   float64\n",
            "dtypes: float64(5), int64(1), object(3)\n",
            "memory usage: 76.8+ KB\n"
          ]
        }
      ]
    },
    {
      "cell_type": "markdown",
      "metadata": {
        "id": "GUDsAhB8LaNC"
      },
      "source": [
        "#### **3) Print the number of observations missing per variable (2 pts)**"
      ]
    },
    {
      "cell_type": "code",
      "source": [
        "df.isnull().sum()"
      ],
      "metadata": {
        "id": "nA15GrTXDStN",
        "colab": {
          "base_uri": "https://localhost:8080/"
        },
        "outputId": "626d2e45-25f0-4d24-f86f-b28cd665f129"
      },
      "execution_count": 27,
      "outputs": [
        {
          "output_type": "execute_result",
          "data": {
            "text/plain": [
              "Player           0\n",
              "Position         0\n",
              "ID               0\n",
              "Draft Year       0\n",
              "Projected SPM    0\n",
              "Superstar        0\n",
              "Starter          0\n",
              "Role Player      0\n",
              "Bust             0\n",
              "dtype: int64"
            ]
          },
          "metadata": {},
          "execution_count": 27
        }
      ]
    },
    {
      "cell_type": "markdown",
      "metadata": {
        "id": "fQWIWqHhLaND"
      },
      "source": [
        "#### **4) Drop the variable `ID` from the dataframe. Print the `.info()` method to verify (2 pts)**"
      ]
    },
    {
      "cell_type": "code",
      "source": [
        "df.drop(columns=['ID'], inplace = True)\n",
        "df.info()"
      ],
      "metadata": {
        "id": "mtN0Rz_1DUFx",
        "colab": {
          "base_uri": "https://localhost:8080/"
        },
        "outputId": "69a14fa4-284c-42d6-e5db-5556e02923e0"
      },
      "execution_count": 28,
      "outputs": [
        {
          "output_type": "stream",
          "name": "stdout",
          "text": [
            "<class 'pandas.core.frame.DataFrame'>\n",
            "RangeIndex: 1090 entries, 0 to 1089\n",
            "Data columns (total 8 columns):\n",
            " #   Column         Non-Null Count  Dtype  \n",
            "---  ------         --------------  -----  \n",
            " 0   Player         1090 non-null   object \n",
            " 1   Position       1090 non-null   object \n",
            " 2   Draft Year     1090 non-null   int64  \n",
            " 3   Projected SPM  1090 non-null   float64\n",
            " 4   Superstar      1090 non-null   float64\n",
            " 5   Starter        1090 non-null   float64\n",
            " 6   Role Player    1090 non-null   float64\n",
            " 7   Bust           1090 non-null   float64\n",
            "dtypes: float64(5), int64(1), object(2)\n",
            "memory usage: 68.2+ KB\n"
          ]
        }
      ]
    },
    {
      "cell_type": "markdown",
      "metadata": {
        "id": "Drdz1dovLaND"
      },
      "source": [
        "#### **5) Create a new DataFrame with (`Draft Year`) greater than 2010. Save it as `df_2010`. Print `.info()` to verify. (2pts)**"
      ]
    },
    {
      "cell_type": "code",
      "source": [
        "df_2010=df[df['Draft Year']>2010]\n",
        "df_2010.info()"
      ],
      "metadata": {
        "id": "tjpj50OVDWHc",
        "colab": {
          "base_uri": "https://localhost:8080/"
        },
        "outputId": "ea938895-f7c3-453e-e018-a030dcec6f9c"
      },
      "execution_count": 41,
      "outputs": [
        {
          "output_type": "stream",
          "name": "stdout",
          "text": [
            "<class 'pandas.core.frame.DataFrame'>\n",
            "Int64Index: 404 entries, 0 to 403\n",
            "Data columns (total 8 columns):\n",
            " #   Column         Non-Null Count  Dtype  \n",
            "---  ------         --------------  -----  \n",
            " 0   Player         404 non-null    object \n",
            " 1   Position       404 non-null    object \n",
            " 2   Draft Year     404 non-null    int64  \n",
            " 3   Projected SPM  404 non-null    float64\n",
            " 4   Superstar      404 non-null    float64\n",
            " 5   Starter        404 non-null    float64\n",
            " 6   Role Player    404 non-null    float64\n",
            " 7   Bust           404 non-null    float64\n",
            "dtypes: float64(5), int64(1), object(2)\n",
            "memory usage: 28.4+ KB\n"
          ]
        }
      ]
    },
    {
      "cell_type": "markdown",
      "metadata": {
        "id": "POltZJtELaND"
      },
      "source": [
        "#### **6) What is the mean `Projected SPM` (projected statistical plus/minus) for players with `Draft Year` after 2010? (2 pts)**"
      ]
    },
    {
      "cell_type": "code",
      "execution_count": 31,
      "metadata": {
        "id": "p2c4q5soDMpi",
        "colab": {
          "base_uri": "https://localhost:8080/"
        },
        "outputId": "a4f7c212-af46-42af-f66d-bf270cd3510f"
      },
      "outputs": [
        {
          "output_type": "execute_result",
          "data": {
            "text/plain": [
              "-0.7159362275569309"
            ]
          },
          "metadata": {},
          "execution_count": 31
        }
      ],
      "source": [
        "df_2010['Projected SPM'].mean()"
      ]
    },
    {
      "cell_type": "markdown",
      "metadata": {
        "id": "zcuyE7jOLaNE"
      },
      "source": [
        "#### **7) Back to the complete data set. Create a 3D pie chart of  `Position`. Use the `explode` option at 20% for the Center `C` Position  (2 pts)**"
      ]
    },
    {
      "cell_type": "code",
      "source": [
        "sizes=df.Position.value_counts()\n",
        "sizes\n",
        "labels=df.Position.value_counts().index\n",
        "labels\n",
        "import matplotlib.pyplot as plt\n",
        "plt.figure(figsize=(6,6))\n",
        "plt.pie(sizes,labels=labels)\n",
        "plt.show()"
      ],
      "metadata": {
        "id": "RF_OCR7SDmdS",
        "colab": {
          "base_uri": "https://localhost:8080/",
          "height": 499
        },
        "outputId": "080492a6-0834-42ee-f75a-0d50a26b88ea"
      },
      "execution_count": 63,
      "outputs": [
        {
          "output_type": "display_data",
          "data": {
            "text/plain": [
              "<Figure size 600x600 with 1 Axes>"
            ],
            "image/png": "[encoded data removed]"
          },
          "metadata": {}
        }
      ]
    },
    {
      "cell_type": "markdown",
      "metadata": {
        "id": "_r4sQs8ULaNE"
      },
      "source": [
        "#### **8) What is the name of the player with the highest `Projected SPM` (projected statistical plus/minus)? (2 pts)**"
      ]
    },
    {
      "cell_type": "code",
      "source": [
        "df2=df[df['Player'], max(df['Projected SPM'])]\n",
        "print(df2['Player'])"
      ],
      "metadata": {
        "id": "PFx3LxEHDnwY",
        "colab": {
          "base_uri": "https://localhost:8080/",
          "height": 1000
        },
        "outputId": "e64b301b-5088-4286-9f7c-5e2e54fca64c"
      },
      "execution_count": 77,
      "outputs": [
        {
          "output_type": "error",
          "ename": "InvalidIndexError",
          "evalue": "ignored",
          "traceback": [
            "\u001b[0;31m---------------------------------------------------------------------------\u001b[0m",
            "\u001b[0;31mTypeError\u001b[0m                                 Traceback (most recent call last)",
            "\u001b[0;32m/usr/local/lib/python3.10/dist-packages/pandas/core/indexes/base.py\u001b[0m in \u001b[0;36mget_loc\u001b[0;34m(self, key, method, tolerance)\u001b[0m\n\u001b[1;32m   3801\u001b[0m             \u001b[0;32mtry\u001b[0m\u001b[0;34m:\u001b[0m\u001b[0;34m\u001b[0m\u001b[0;34m\u001b[0m\u001b[0m\n\u001b[0;32m-> 3802\u001b[0;31m                 \u001b[0;32mreturn\u001b[0m \u001b[0mself\u001b[0m\u001b[0;34m.\u001b[0m\u001b[0m_engine\u001b[0m\u001b[0;34m.\u001b[0m\u001b[0mget_loc\u001b[0m\u001b[0;34m(\u001b[0m\u001b[0mcasted_key\u001b[0m\u001b[0;34m)\u001b[0m\u001b[0;34m\u001b[0m\u001b[0;34m\u001b[0m\u001b[0m\n\u001b[0m\u001b[1;32m   3803\u001b[0m             \u001b[0;32mexcept\u001b[0m \u001b[0mKeyError\u001b[0m \u001b[0;32mas\u001b[0m \u001b[0merr\u001b[0m\u001b[0;34m:\u001b[0m\u001b[0;34m\u001b[0m\u001b[0;34m\u001b[0m\u001b[0m\n",
            "\u001b[0;32m/usr/local/lib/python3.10/dist-packages/pandas/_libs/index.pyx\u001b[0m in \u001b[0;36mpandas._libs.index.IndexEngine.get_loc\u001b[0;34m()\u001b[0m\n",
            "\u001b[0;32m/usr/local/lib/python3.10/dist-packages/pandas/_libs/index.pyx\u001b[0m in \u001b[0;36mpandas._libs.index.IndexEngine.get_loc\u001b[0;34m()\u001b[0m\n",
            "\u001b[0;31mTypeError\u001b[0m: '(0          Karl-Anthony Towns\n1             Justise Winslow\n2             Stanley Johnson\n3               Jahlil Okafor\n4            D`Angelo Russell\n                ...          \n1085            Terrell Lyday\n1086          Brandon Wolfram\n1087    Ruben Boumtje Boumtje\n1088           Greg Stevenson\n1089            Calvin Bowman\nName: Player, Length: 1090, dtype: object, 1.776771289)' is an invalid key",
            "\nDuring handling of the above exception, another exception occurred:\n",
            "\u001b[0;31mInvalidIndexError\u001b[0m                         Traceback (most recent call last)",
            "\u001b[0;32m<ipython-input-77-2f02982ff68a>\u001b[0m in \u001b[0;36m<cell line: 1>\u001b[0;34m()\u001b[0m\n\u001b[0;32m----> 1\u001b[0;31m \u001b[0mdf2\u001b[0m\u001b[0;34m=\u001b[0m\u001b[0mdf\u001b[0m\u001b[0;34m[\u001b[0m\u001b[0mdf\u001b[0m\u001b[0;34m[\u001b[0m\u001b[0;34m'Player'\u001b[0m\u001b[0;34m]\u001b[0m\u001b[0;34m,\u001b[0m \u001b[0mmax\u001b[0m\u001b[0;34m(\u001b[0m\u001b[0mdf\u001b[0m\u001b[0;34m[\u001b[0m\u001b[0;34m'Projected SPM'\u001b[0m\u001b[0;34m]\u001b[0m\u001b[0;34m)\u001b[0m\u001b[0;34m]\u001b[0m\u001b[0;34m\u001b[0m\u001b[0;34m\u001b[0m\u001b[0m\n\u001b[0m\u001b[1;32m      2\u001b[0m \u001b[0mprint\u001b[0m\u001b[0;34m(\u001b[0m\u001b[0mdf2\u001b[0m\u001b[0;34m[\u001b[0m\u001b[0;34m'Player'\u001b[0m\u001b[0;34m]\u001b[0m\u001b[0;34m)\u001b[0m\u001b[0;34m\u001b[0m\u001b[0;34m\u001b[0m\u001b[0m\n",
            "\u001b[0;32m/usr/local/lib/python3.10/dist-packages/pandas/core/frame.py\u001b[0m in \u001b[0;36m__getitem__\u001b[0;34m(self, key)\u001b[0m\n\u001b[1;32m   3805\u001b[0m             \u001b[0;32mif\u001b[0m \u001b[0mself\u001b[0m\u001b[0;34m.\u001b[0m\u001b[0mcolumns\u001b[0m\u001b[0;34m.\u001b[0m\u001b[0mnlevels\u001b[0m \u001b[0;34m>\u001b[0m \u001b[0;36m1\u001b[0m\u001b[0;34m:\u001b[0m\u001b[0;34m\u001b[0m\u001b[0;34m\u001b[0m\u001b[0m\n\u001b[1;32m   3806\u001b[0m                 \u001b[0;32mreturn\u001b[0m \u001b[0mself\u001b[0m\u001b[0;34m.\u001b[0m\u001b[0m_getitem_multilevel\u001b[0m\u001b[0;34m(\u001b[0m\u001b[0mkey\u001b[0m\u001b[0;34m)\u001b[0m\u001b[0;34m\u001b[0m\u001b[0;34m\u001b[0m\u001b[0m\n\u001b[0;32m-> 3807\u001b[0;31m             \u001b[0mindexer\u001b[0m \u001b[0;34m=\u001b[0m \u001b[0mself\u001b[0m\u001b[0;34m.\u001b[0m\u001b[0mcolumns\u001b[0m\u001b[0;34m.\u001b[0m\u001b[0mget_loc\u001b[0m\u001b[0;34m(\u001b[0m\u001b[0mkey\u001b[0m\u001b[0;34m)\u001b[0m\u001b[0;34m\u001b[0m\u001b[0;34m\u001b[0m\u001b[0m\n\u001b[0m\u001b[1;32m   3808\u001b[0m             \u001b[0;32mif\u001b[0m \u001b[0mis_integer\u001b[0m\u001b[0;34m(\u001b[0m\u001b[0mindexer\u001b[0m\u001b[0;34m)\u001b[0m\u001b[0;34m:\u001b[0m\u001b[0;34m\u001b[0m\u001b[0;34m\u001b[0m\u001b[0m\n\u001b[1;32m   3809\u001b[0m                 \u001b[0mindexer\u001b[0m \u001b[0;34m=\u001b[0m \u001b[0;34m[\u001b[0m\u001b[0mindexer\u001b[0m\u001b[0;34m]\u001b[0m\u001b[0;34m\u001b[0m\u001b[0;34m\u001b[0m\u001b[0m\n",
            "\u001b[0;32m/usr/local/lib/python3.10/dist-packages/pandas/core/indexes/base.py\u001b[0m in \u001b[0;36mget_loc\u001b[0;34m(self, key, method, tolerance)\u001b[0m\n\u001b[1;32m   3807\u001b[0m                 \u001b[0;31m#  InvalidIndexError. Otherwise we fall through and re-raise\u001b[0m\u001b[0;34m\u001b[0m\u001b[0;34m\u001b[0m\u001b[0m\n\u001b[1;32m   3808\u001b[0m                 \u001b[0;31m#  the TypeError.\u001b[0m\u001b[0;34m\u001b[0m\u001b[0;34m\u001b[0m\u001b[0m\n\u001b[0;32m-> 3809\u001b[0;31m                 \u001b[0mself\u001b[0m\u001b[0;34m.\u001b[0m\u001b[0m_check_indexing_error\u001b[0m\u001b[0;34m(\u001b[0m\u001b[0mkey\u001b[0m\u001b[0;34m)\u001b[0m\u001b[0;34m\u001b[0m\u001b[0;34m\u001b[0m\u001b[0m\n\u001b[0m\u001b[1;32m   3810\u001b[0m                 \u001b[0;32mraise\u001b[0m\u001b[0;34m\u001b[0m\u001b[0;34m\u001b[0m\u001b[0m\n\u001b[1;32m   3811\u001b[0m \u001b[0;34m\u001b[0m\u001b[0m\n",
            "\u001b[0;32m/usr/local/lib/python3.10/dist-packages/pandas/core/indexes/base.py\u001b[0m in \u001b[0;36m_check_indexing_error\u001b[0;34m(self, key)\u001b[0m\n\u001b[1;32m   5923\u001b[0m             \u001b[0;31m# if key is not a scalar, directly raise an error (the code below\u001b[0m\u001b[0;34m\u001b[0m\u001b[0;34m\u001b[0m\u001b[0m\n\u001b[1;32m   5924\u001b[0m             \u001b[0;31m# would convert to numpy arrays and raise later any way) - GH29926\u001b[0m\u001b[0;34m\u001b[0m\u001b[0;34m\u001b[0m\u001b[0m\n\u001b[0;32m-> 5925\u001b[0;31m             \u001b[0;32mraise\u001b[0m \u001b[0mInvalidIndexError\u001b[0m\u001b[0;34m(\u001b[0m\u001b[0mkey\u001b[0m\u001b[0;34m)\u001b[0m\u001b[0;34m\u001b[0m\u001b[0;34m\u001b[0m\u001b[0m\n\u001b[0m\u001b[1;32m   5926\u001b[0m \u001b[0;34m\u001b[0m\u001b[0m\n\u001b[1;32m   5927\u001b[0m     \u001b[0;34m@\u001b[0m\u001b[0mcache_readonly\u001b[0m\u001b[0;34m\u001b[0m\u001b[0;34m\u001b[0m\u001b[0m\n",
            "\u001b[0;31mInvalidIndexError\u001b[0m: (0          Karl-Anthony Towns\n1             Justise Winslow\n2             Stanley Johnson\n3               Jahlil Okafor\n4            D`Angelo Russell\n                ...          \n1085            Terrell Lyday\n1086          Brandon Wolfram\n1087    Ruben Boumtje Boumtje\n1088           Greg Stevenson\n1089            Calvin Bowman\nName: Player, Length: 1090, dtype: object, 1.776771289)"
          ]
        }
      ]
    },
    {
      "cell_type": "markdown",
      "metadata": {
        "id": "xd-_qYRZLaNF"
      },
      "source": [
        "#### **9) Create a new variable `new_statistic = Projected SPM + Superstar`. What is the mean of `new_statistic`? (2 pts)**"
      ]
    },
    {
      "cell_type": "code",
      "execution_count": 32,
      "metadata": {
        "id": "EpYLLpUjLseO",
        "colab": {
          "base_uri": "https://localhost:8080/"
        },
        "outputId": "f1e75ef0-ab68-4e6a-aa67-93d86b70965b"
      },
      "outputs": [
        {
          "output_type": "execute_result",
          "data": {
            "text/plain": [
              "-0.7987154966692661"
            ]
          },
          "metadata": {},
          "execution_count": 32
        }
      ],
      "source": [
        "new_statistic=df['Projected SPM'] + df['Superstar']\n",
        "new_statistic.mean()"
      ]
    },
    {
      "cell_type": "markdown",
      "metadata": {
        "id": "9UagSjuRLaNF"
      },
      "source": [
        "#### **Q10) Print the names (`Player`) and position (`Position`) of players who have a probability of becoming a superstar greater than 15%? (2 pts)**"
      ]
    },
    {
      "cell_type": "code",
      "source": [
        "df3=df[df['Superstar']>0.15]\n",
        "print(df3['Player'], df3['Position'])"
      ],
      "metadata": {
        "id": "eTlDeO4eDpkU",
        "colab": {
          "base_uri": "https://localhost:8080/"
        },
        "outputId": "aec50c64-a121-4090-9826-c59d64248c12"
      },
      "execution_count": 39,
      "outputs": [
        {
          "output_type": "stream",
          "name": "stdout",
          "text": [
            "4       D`Angelo Russell\n",
            "78          Marcus Smart\n",
            "158       Victor Oladipo\n",
            "324     Derrick Williams\n",
            "488         Tyreke Evans\n",
            "571          Eric Gordon\n",
            "642      Mike Conley Jr.\n",
            "790           Chris Paul\n",
            "1032           Omar Cook\n",
            "Name: Player, dtype: object 4       PG\n",
            "78      PG\n",
            "158     SG\n",
            "324     PF\n",
            "488     PG\n",
            "571     SG\n",
            "642     PG\n",
            "790     PG\n",
            "1032    PG\n",
            "Name: Position, dtype: object\n"
          ]
        }
      ]
    }
  ],
  "metadata": {
    "colab": {
      "provenance": [],
      "include_colab_link": true
    },
    "kernelspec": {
      "display_name": "Python 3 (ipykernel)",
      "language": "python",
      "name": "python3"
    },
    "language_info": {
      "codemirror_mode": {
        "name": "ipython",
        "version": 3
      },
      "file_extension": ".py",
      "mimetype": "text/x-python",
      "name": "python",
      "nbconvert_exporter": "python",
      "pygments_lexer": "ipython3",
      "version": "3.8.13"
    }
  },
  "nbformat": 4,
  "nbformat_minor": 0
}