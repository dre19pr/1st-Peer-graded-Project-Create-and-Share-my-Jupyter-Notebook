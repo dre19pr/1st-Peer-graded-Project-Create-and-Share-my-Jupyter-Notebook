{
 "cells": [
  {
   "cell_type": "markdown",
   "id": "9d9c5534",
   "metadata": {},
   "source": [
    "# 1st Peer-graded assignment Create and Share my Jupyter Notebook"
   ]
  },
  {
   "cell_type": "markdown",
   "id": "58d4435e",
   "metadata": {},
   "source": [
    "**Andrew Thompson**\n",
    "\n",
    "Desired Occupation: Sports Data Analyst"
   ]
  },
  {
   "cell_type": "markdown",
   "id": "65550970",
   "metadata": {},
   "source": [
    "* *I want to become a sports data analyst so I can help a sport team find the right strategies to win based on my own analysis.* *"
   ]
  },
  {
   "cell_type": "markdown",
   "id": "e67488f2",
   "metadata": {},
   "source": [
    "### Calculating the new football team's total rushing yards when Joe gets traded, but Steve joins the team. "
   ]
  },
  {
   "cell_type": "code",
   "execution_count": 9,
   "id": "4bd662e8",
   "metadata": {},
   "outputs": [
    {
     "data": {
      "text/plain": [
       "4896"
      ]
     },
     "execution_count": 9,
     "metadata": {},
     "output_type": "execute_result"
    }
   ],
   "source": [
    "(1230+1500+986+1086)-1230+1324"
   ]
  },
  {
   "cell_type": "markdown",
   "id": "ab07eac8",
   "metadata": {},
   "source": [
    "####Calculating the Football league rushing yards and touchdowns by top runningback\n",
    "\n",
    "|Joe|Steve|Josh|Cory|Tyler\n",
    "|-----|-----|-----|-----|-----|\n",
    "|1230 yards|1324 yards| 1500 yards|986 yards|1,086 yards\n",
    "|14 tds|16 tds|18 tds|10 tds|12 tds|\n",
    "\n",
    "##### Top 3 Running Backs by rushing yardage\n",
    "1. Josh- 1,500 yards\n",
    "2. Steve- 1,324 yards\n",
    "3. Joe- 1,230 yards\n",
    "\n",
    "###### Top 3 Scoring League Runningbacks \n",
    "+ Josh-18 touchdowns\n",
    "+ Steve- 16 touchdowns\n",
    "+ Joe- 12 touchdowns\n",
    "\n"
   ]
  },
  {
   "cell_type": "code",
   "execution_count": null,
   "id": "1df083ce",
   "metadata": {},
   "outputs": [],
   "source": []
  }
 ],
 "metadata": {
  "kernelspec": {
   "display_name": "Python 3 (ipykernel)",
   "language": "python",
   "name": "python3"
  },
  "language_info": {
   "codemirror_mode": {
    "name": "ipython",
    "version": 3
   },
   "file_extension": ".py",
   "mimetype": "text/x-python",
   "name": "python",
   "nbconvert_exporter": "python",
   "pygments_lexer": "ipython3",
   "version": "3.9.13"
  }
 },
 "nbformat": 4,
 "nbformat_minor": 5
}
